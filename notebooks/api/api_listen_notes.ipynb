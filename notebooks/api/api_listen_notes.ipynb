{
 "cells": [
  {
   "cell_type": "code",
   "execution_count": 1,
   "metadata": {},
   "outputs": [],
   "source": [
    "import unirest"
   ]
  },
  {
   "cell_type": "code",
   "execution_count": 2,
   "metadata": {},
   "outputs": [],
   "source": [
    "response = unirest.get(\"https://listennotes.p.mashape.com/api/v1/search?genre_ids=68%2C100&language=English&len_max=10&len_min=2&offset=0&only_in=Only+search+in+these+fields&published_after=1390190241000&published_before=1490190241000&q=kobe&sort_by_date=0&type=episode\",\n",
    "  headers={\n",
    "    \"X-Mashape-Key\": \"my_key\",\n",
    "    \"Accept\": \"application/json\"\n",
    "  }\n",
    ")"
   ]
  },
  {
   "cell_type": "code",
   "execution_count": 3,
   "metadata": {},
   "outputs": [
    {
     "name": "stdout",
     "output_type": "stream",
     "text": [
      "0\n",
      "25\n",
      "50\n",
      "75\n",
      "100\n",
      "125\n",
      "150\n",
      "175\n",
      "200\n",
      "225\n",
      "250\n",
      "275\n",
      "300\n",
      "325\n",
      "350\n",
      "375\n",
      "400\n",
      "425\n",
      "450\n",
      "475\n"
     ]
    }
   ],
   "source": [
    "for i in range(int(5e2)):\n",
    "    \n",
    "        \n",
    "    response = unirest.get(\"https://listennotes.p.mashape.com/api/v1/search?genre_ids=68%2C100&language=English&len_max=10&len_min=2&offset=0&only_in=Only+search+in+these+fields&published_after=1390190241000&published_before=1490190241000&q=kobe&sort_by_date=0&type=episode\",\n",
    "  headers={\n",
    "    \"X-Mashape-Key\": \"my_key\",\n",
    "    \"Accept\": \"application/json\"\n",
    "      }\n",
    "    )\n",
    "    if i % 25 == 0:\n",
    "        print(i)"
   ]
  },
  {
   "cell_type": "code",
   "execution_count": null,
   "metadata": {},
   "outputs": [],
   "source": []
  },
  {
   "cell_type": "code",
   "execution_count": 40,
   "metadata": {},
   "outputs": [
    {
     "name": "stdout",
     "output_type": "stream",
     "text": [
      "[[99, 100, 105, 117, 118], u'WGLT', u'We\\'re All Just Livin\\' In <span class=\"ln-search-highlight\">Kobe</span> Buffalomeat\\'s World', u\"GLT's Sound Ideas\", u'https://d3sv2eduhewoas.cloudfront.net/channel/image/4c1fa436a7db4481b9b299dfbd16c07c.jpe', u'... school football player <span class=\"ln-search-highlight\">Kobe</span> Buffalomeat literally made headlines when his decision to play at ISU was made public during national college signing day, February 1st. His unique handle was highlighted', u\"We're All Just Livin' In Kobe Buffalomeat's World\", u\"GLT's Sound Ideas\", [], 1486163469000, 1057379567, u'b9247208ac864e7d946d7949671522d8', u'WGLT', u'Super Bowl week activities took a backseat, at least for several hours, to a previously-unknown Illinois State University football recruit who dominated social media for more than a day. Kansas high school football player Kobe Buffalomeat literally made headlines when his decision to play at ISU was made public during national college signing day, February 1st. His unique handle was highlighted online and otherwise by Sports Illustrated, ESPN, Washington Post, New York Times and other media', u'00:06:28', u'https://www.listennotes.com/e/p/b3672ee975294c96a7dbd9051df09ac9/', u'b3672ee975294c96a7dbd9051df09ac9', u'https://www.listennotes.com/c/r/b9247208ac864e7d946d7949671522d8']\n"
     ]
    }
   ],
   "source": [
    "print(response.body['results'][0].values())"
   ]
  },
  {
   "cell_type": "code",
   "execution_count": 8,
   "metadata": {},
   "outputs": [
    {
     "name": "stdout",
     "output_type": "stream",
     "text": [
      "...US President Barack <span class=\"ln-search-highlight\">Obama</span> has delivered his farewell address, urging Americans to defend their democracy.\n",
      "&nbsp;\n",
      "Photo:  Barack <span class=\"ln-search-highlight\">Obama</span> while wiping tears from his eyes (AAP)(Nagtalumpating panghuli si\n"
     ]
    }
   ],
   "source": [
    "print(response.body['results'][0]['description_highlighted'])"
   ]
  },
  {
   "cell_type": "code",
   "execution_count": 4,
   "metadata": {},
   "outputs": [],
   "source": [
    "pod_genres = response.body['genres']"
   ]
  },
  {
   "cell_type": "code",
   "execution_count": 5,
   "metadata": {},
   "outputs": [],
   "source": [
    "response = unirest.get(\"https://listennotes.p.mashape.com/api/v1/typeahead\",\n",
    "  headers={\n",
    "    \"X-Mashape-Key\": \"my_key\",\n",
    "    \"Accept\": \"application/json\"\n",
    "  }\n",
    ")\n"
   ]
  },
  {
   "cell_type": "code",
   "execution_count": 6,
   "metadata": {},
   "outputs": [
    {
     "data": {
      "text/plain": [
       "{u'terms': []}"
      ]
     },
     "execution_count": 6,
     "metadata": {},
     "output_type": "execute_result"
    }
   ],
   "source": [
    "response.body"
   ]
  },
  {
   "cell_type": "code",
   "execution_count": 4,
   "metadata": {},
   "outputs": [],
   "source": [
    "response = unirest.get(\"https://listennotes.p.mashape.com/api/v1/genres\",\n",
    "  headers={\n",
    "    \"X-Mashape-Key\": \"my_key\",\n",
    "    \"Accept\": \"application/json\"\n",
    "  }\n",
    ")\n",
    "\n"
   ]
  },
  {
   "cell_type": "code",
   "execution_count": 5,
   "metadata": {},
   "outputs": [
    {
     "data": {
      "text/plain": [
       "{u'genres': [{u'id': 139, u'name': u'VR & AR', u'parent_id': 127},\n",
       "  {u'id': 140, u'name': u'Web Design', u'parent_id': 127},\n",
       "  {u'id': 141, u'name': u'Golf', u'parent_id': 77},\n",
       "  {u'id': 142, u'name': u'English Learning', u'parent_id': 116},\n",
       "  {u'id': 143, u'name': u'Programming', u'parent_id': 127},\n",
       "  {u'id': 144, u'name': u'Personal Finance', u'parent_id': 67},\n",
       "  {u'id': 145, u'name': u'Parenting', u'parent_id': 132},\n",
       "  {u'id': 146, u'name': u'LGBTQ', u'parent_id': 122},\n",
       "  {u'id': 147, u'name': u'SEO', u'parent_id': 97},\n",
       "  {u'id': 148, u'name': u'American History', u'parent_id': 125},\n",
       "  {u'id': 149, u'name': u'Venture Capital', u'parent_id': 93},\n",
       "  {u'id': 138, u'name': u'Movie', u'parent_id': 68},\n",
       "  {u'id': 150, u'name': u'Chinese History', u'parent_id': 125},\n",
       "  {u'id': 151, u'name': u'Locally Focused', u'parent_id': 67},\n",
       "  {u'id': 154, u'name': u'San Francisco Bay Area', u'parent_id': 152},\n",
       "  {u'id': 155, u'name': u'Denver', u'parent_id': 152},\n",
       "  {u'id': 157, u'name': u'Startup', u'parent_id': 93},\n",
       "  {u'id': 158, u'name': u'NFL', u'parent_id': 78},\n",
       "  {u'id': 159, u'name': u'Harry Potter', u'parent_id': 68},\n",
       "  {u'id': 162, u'name': u'Game of Thrones', u'parent_id': 68},\n",
       "  {u'id': 165, u'name': u'Storytelling', u'parent_id': 122},\n",
       "  {u'id': 166, u'name': u'YouTube', u'parent_id': 68},\n",
       "  {u'id': 83, u'name': u'Other Games', u'parent_id': 82},\n",
       "  {u'id': 84, u'name': u'Automotive', u'parent_id': 82},\n",
       "  {u'id': 85, u'name': u'Video Games', u'parent_id': 82},\n",
       "  {u'id': 86, u'name': u'Hobbies', u'parent_id': 82},\n",
       "  {u'id': 87, u'name': u'Aviation', u'parent_id': 82},\n",
       "  {u'id': 152, u'name': u'United States', u'parent_id': 151},\n",
       "  {u'id': 156, u'name': u'China', u'parent_id': 151},\n",
       "  {u'id': 160, u'name': u'Star Wars', u'parent_id': 68},\n",
       "  {u'id': 163, u'name': u'AI & Data Science', u'parent_id': 127},\n",
       "  {u'id': 67, u'name': u'Podcasts', u'parent_id': None},\n",
       "  {u'id': 68, u'name': u'TV & Film', u'parent_id': 67},\n",
       "  {u'id': 69, u'name': u'Religion & Spirituality', u'parent_id': 67},\n",
       "  {u'id': 70, u'name': u'Spirituality', u'parent_id': 69},\n",
       "  {u'id': 71, u'name': u'Islam', u'parent_id': 69},\n",
       "  {u'id': 72, u'name': u'Buddhism', u'parent_id': 69},\n",
       "  {u'id': 73, u'name': u'Judaism', u'parent_id': 69},\n",
       "  {u'id': 74, u'name': u'Other', u'parent_id': 69},\n",
       "  {u'id': 75, u'name': u'Christianity', u'parent_id': 69},\n",
       "  {u'id': 76, u'name': u'Hinduism', u'parent_id': 69},\n",
       "  {u'id': 77, u'name': u'Sports & Recreation', u'parent_id': 67},\n",
       "  {u'id': 78, u'name': u'Professional', u'parent_id': 77},\n",
       "  {u'id': 79, u'name': u'Outdoor', u'parent_id': 77},\n",
       "  {u'id': 80, u'name': u'College & High School', u'parent_id': 77},\n",
       "  {u'id': 81, u'name': u'Amateur', u'parent_id': 77},\n",
       "  {u'id': 82, u'name': u'Games & Hobbies', u'parent_id': 67},\n",
       "  {u'id': 88, u'name': u'Health', u'parent_id': 67},\n",
       "  {u'id': 89, u'name': u'Fitness & Nutrition', u'parent_id': 88},\n",
       "  {u'id': 90, u'name': u'Self-Help', u'parent_id': 88},\n",
       "  {u'id': 91, u'name': u'Alternative Health', u'parent_id': 88},\n",
       "  {u'id': 92, u'name': u'Sexuality', u'parent_id': 88},\n",
       "  {u'id': 93, u'name': u'Business', u'parent_id': 67},\n",
       "  {u'id': 94, u'name': u'Careers', u'parent_id': 93},\n",
       "  {u'id': 95, u'name': u'Business News', u'parent_id': 93},\n",
       "  {u'id': 96, u'name': u'Shopping', u'parent_id': 93},\n",
       "  {u'id': 97, u'name': u'Management & Marketing', u'parent_id': 93},\n",
       "  {u'id': 98, u'name': u'Investing', u'parent_id': 93},\n",
       "  {u'id': 99, u'name': u'News & Politics', u'parent_id': 67},\n",
       "  {u'id': 100, u'name': u'Arts', u'parent_id': 67},\n",
       "  {u'id': 101, u'name': u'Performing Arts', u'parent_id': 100},\n",
       "  {u'id': 102, u'name': u'Food', u'parent_id': 100},\n",
       "  {u'id': 103, u'name': u'Visual Arts', u'parent_id': 100},\n",
       "  {u'id': 104, u'name': u'Literature', u'parent_id': 100},\n",
       "  {u'id': 105, u'name': u'Design', u'parent_id': 100},\n",
       "  {u'id': 106, u'name': u'Fashion & Beauty', u'parent_id': 100},\n",
       "  {u'id': 107, u'name': u'Science & Medicine', u'parent_id': 67},\n",
       "  {u'id': 108, u'name': u'Social Sciences', u'parent_id': 107},\n",
       "  {u'id': 109, u'name': u'Medicine', u'parent_id': 107},\n",
       "  {u'id': 110, u'name': u'Natural Sciences', u'parent_id': 107},\n",
       "  {u'id': 111, u'name': u'Education', u'parent_id': 67},\n",
       "  {u'id': 112, u'name': u'Educational Technology', u'parent_id': 111},\n",
       "  {u'id': 113, u'name': u'Higher Education', u'parent_id': 111},\n",
       "  {u'id': 114, u'name': u'K-12', u'parent_id': 111},\n",
       "  {u'id': 115, u'name': u'Training', u'parent_id': 111},\n",
       "  {u'id': 116, u'name': u'Language Courses', u'parent_id': 111},\n",
       "  {u'id': 117, u'name': u'Government & Organizations', u'parent_id': 67},\n",
       "  {u'id': 118, u'name': u'Local', u'parent_id': 117},\n",
       "  {u'id': 136, u'name': u'Crypto & Blockchain', u'parent_id': 127},\n",
       "  {u'id': 135, u'name': u'True Crime', u'parent_id': 122},\n",
       "  {u'id': 119, u'name': u'Non-Profit', u'parent_id': 117},\n",
       "  {u'id': 120, u'name': u'Regional', u'parent_id': 117},\n",
       "  {u'id': 121, u'name': u'National', u'parent_id': 117},\n",
       "  {u'id': 122, u'name': u'Society & Culture', u'parent_id': 67},\n",
       "  {u'id': 123, u'name': u'Places & Travel', u'parent_id': 122},\n",
       "  {u'id': 124, u'name': u'Personal Journals', u'parent_id': 122},\n",
       "  {u'id': 126, u'name': u'Philosophy', u'parent_id': 122},\n",
       "  {u'id': 128, u'name': u'Software How-To', u'parent_id': 127},\n",
       "  {u'id': 129, u'name': u'Podcasting', u'parent_id': 127},\n",
       "  {u'id': 130, u'name': u'Gadgets', u'parent_id': 127},\n",
       "  {u'id': 131, u'name': u'Tech News', u'parent_id': 127},\n",
       "  {u'id': 132, u'name': u'Kids & Family', u'parent_id': 67},\n",
       "  {u'id': 133, u'name': u'Comedy', u'parent_id': 67},\n",
       "  {u'id': 134, u'name': u'Music', u'parent_id': 67},\n",
       "  {u'id': 153, u'name': u'New York', u'parent_id': 152},\n",
       "  {u'id': 161, u'name': u'Star Trek', u'parent_id': 68},\n",
       "  {u'id': 164, u'name': u'Apple', u'parent_id': 127},\n",
       "  {u'id': 125, u'name': u'History', u'parent_id': 122},\n",
       "  {u'id': 137, u'name': u'NBA', u'parent_id': 78},\n",
       "  {u'id': 127, u'name': u'Technology', u'parent_id': 67},\n",
       "  {u'id': 167, u'name': u'Audio Drama', u'parent_id': 122},\n",
       "  {u'id': 168, u'name': u'Fiction', u'parent_id': 122}]}"
      ]
     },
     "execution_count": 5,
     "metadata": {},
     "output_type": "execute_result"
    }
   ],
   "source": [
    "response.body"
   ]
  },
  {
   "cell_type": "code",
   "execution_count": null,
   "metadata": {},
   "outputs": [],
   "source": []
  }
 ],
 "metadata": {
  "kernelspec": {
   "display_name": "Python 2",
   "language": "python",
   "name": "python2"
  },
  "language_info": {
   "codemirror_mode": {
    "name": "ipython",
    "version": 2
   },
   "file_extension": ".py",
   "mimetype": "text/x-python",
   "name": "python",
   "nbconvert_exporter": "python",
   "pygments_lexer": "ipython2",
   "version": "2.7.15"
  }
 },
 "nbformat": 4,
 "nbformat_minor": 2
}
