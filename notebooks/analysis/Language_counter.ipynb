{
 "cells": [
  {
   "cell_type": "code",
   "execution_count": 1,
   "metadata": {},
   "outputs": [],
   "source": [
    "import csv\n",
    "import re\n",
    "import numpy as np\n",
    "import pandas as pd\n",
    "from pprint import pprint\n",
    "import random\n",
    "# Gensim\n",
    "import gensim\n",
    "import gensim.corpora as corpora\n",
    "from gensim.utils import simple_preprocess\n",
    "from gensim.models import CoherenceModel\n",
    "\n",
    "# spacy for lemmatization\n",
    "from __future__ import unicode_literals\n",
    "import spacy\n",
    "\n",
    "# Plotting tools\n",
    "import pyLDAvis\n",
    "import pyLDAvis.gensim  # don't skip this\n",
    "import matplotlib.pyplot as plt\n",
    "%matplotlib inline\n",
    "\n",
    "# Enable logging for gensim - optional\n",
    "import logging\n",
    "logging.basicConfig(format='%(asctime)s : %(levelname)s : %(message)s', level=logging.ERROR)\n",
    "\n",
    "import warnings\n",
    "warnings.filterwarnings(\"ignore\",category=DeprecationWarning)"
   ]
  },
  {
   "cell_type": "markdown",
   "metadata": {},
   "source": [
    "## Setup The enviromental modules\n",
    "\n",
    "### Import nltk"
   ]
  },
  {
   "cell_type": "code",
   "execution_count": 2,
   "metadata": {},
   "outputs": [
    {
     "name": "stdout",
     "output_type": "stream",
     "text": [
      "[nltk_data] Downloading package stopwords to\n",
      "[nltk_data]     /Users/jaimemillan/nltk_data...\n",
      "[nltk_data]   Unzipping corpora/stopwords.zip.\n"
     ]
    },
    {
     "data": {
      "text/plain": [
       "True"
      ]
     },
     "execution_count": 2,
     "metadata": {},
     "output_type": "execute_result"
    }
   ],
   "source": [
    "# Run in python console\n",
    "import nltk; nltk.download('stopwords')"
   ]
  },
  {
   "cell_type": "code",
   "execution_count": 3,
   "metadata": {},
   "outputs": [],
   "source": [
    "# NLTK Stop words\n",
    "from nltk.corpus import stopwords\n",
    "stop_words = stopwords.words(['english','danish', 'dutch', 'english', 'finnish', 'french', 'german', 'hungarian', 'italian', 'norwegian', 'portuguese', 'russian', 'spanish', 'swedish', 'turkish'])\n",
    "stop_words.extend(['from', 'subject', 're', 'edu', 'use'])"
   ]
  },
  {
   "cell_type": "markdown",
   "metadata": {},
   "source": [
    "## Get The podcast Data \n",
    "\n",
    "### Here we import the podcast data. At the end we will have about ~100k podcast to utilize for our prediction model. \n",
    "### This csv files offer the following information regarding the podcasts:\n",
    "\n",
    "- podcast description from url and itunes (str)\n",
    "- podcast urls (str)\n",
    "- podcast explicit content (boolean)\n",
    "- podcast name \n",
    "- podcast picture"
   ]
  },
  {
   "cell_type": "markdown",
   "metadata": {},
   "source": [
    "## Import the files Now! \n",
    "### first create string from a- to -z so we can import them!"
   ]
  },
  {
   "cell_type": "code",
   "execution_count": 4,
   "metadata": {},
   "outputs": [
    {
     "name": "stdout",
     "output_type": "stream",
     "text": [
      "bcdefghijklmnopqrstuvwxyz\n"
     ]
    }
   ],
   "source": [
    "import string \n",
    "strings = string.ascii_lowercase[1:26]\n",
    "print(strings)"
   ]
  },
  {
   "cell_type": "markdown",
   "metadata": {},
   "source": [
    "## Import big files with podcasts"
   ]
  },
  {
   "cell_type": "code",
   "execution_count": 5,
   "metadata": {},
   "outputs": [
    {
     "data": {
      "text/plain": [
       "Int64Index([0, 1, 2, 3, 4, 5, 6, 7, 8, 9, 10, 11, 12], dtype='int64')"
      ]
     },
     "execution_count": 5,
     "metadata": {},
     "output_type": "execute_result"
    }
   ],
   "source": [
    "df = pd.read_csv(\"all.csv\",header=None)\n",
    "df.columns"
   ]
  },
  {
   "cell_type": "markdown",
   "metadata": {},
   "source": [
    "## Dictionary from numerical colums to podcast descriptions!\n"
   ]
  },
  {
   "cell_type": "code",
   "execution_count": 6,
   "metadata": {},
   "outputs": [],
   "source": [
    "dict_num_colnames = {'slug':0,'name':1,'image_url':2,'feed_url':3,'website_url':4,\n",
    "                      'itunes_owner_name':5,'itunes_owner_email':6,\n",
    "                        'description':10,'itunes_summary':11}"
   ]
  },
  {
   "cell_type": "code",
   "execution_count": 7,
   "metadata": {},
   "outputs": [],
   "source": [
    "dict_num_colnames = {'slug':0,'name':2,'image_url':3,'feed_url':4,'website_url':5,\n",
    "                      'itunes_owner_name':6,'itunes_owner_email':7,\n",
    "                        'description':11,'itunes_summary':12}"
   ]
  },
  {
   "cell_type": "code",
   "execution_count": 8,
   "metadata": {},
   "outputs": [],
   "source": [
    "nbr_data =1000"
   ]
  },
  {
   "cell_type": "markdown",
   "metadata": {},
   "source": [
    "## Let's Clean the podcast\n",
    "\n",
    "### Some podcast description is misssing, or in asian languages hard to deal with. For now we will focus on English.\n",
    "### Suggestion: Extend this analysis to other languages in the future"
   ]
  },
  {
   "cell_type": "code",
   "execution_count": 9,
   "metadata": {},
   "outputs": [],
   "source": [
    "#backup file where we store the description, itunes_summary, name and website for each podcast\n",
    "# some of this contes could be Nan, empty etc\n",
    "\n",
    "new_df = pd.DataFrame({'content':df.iloc[:,dict_num_colnames['description']],    \n",
    "                       'content2':df.iloc[:,dict_num_colnames['itunes_summary']],\n",
    "                       'name': df.iloc[:,dict_num_colnames['name']],\n",
    "                       'website_url': df.iloc[:,dict_num_colnames['website_url']]\n",
    "                      })"
   ]
  },
  {
   "cell_type": "markdown",
   "metadata": {},
   "source": [
    "## Here is where we erase asian languages"
   ]
  },
  {
   "cell_type": "code",
   "execution_count": 10,
   "metadata": {},
   "outputs": [],
   "source": [
    "# Store the ids of english files (good ids list)\n",
    "\n",
    "bad_ids= []\n",
    "good_ids = []\n",
    "\n",
    "# \n",
    "data = new_df.content[:].values.tolist()\n",
    "data1 = new_df.content2[:].values.tolist()\n",
    "pod_names = new_df.name[:].values.tolist()\n",
    "pod_url = new_df.website_url[:].values.tolist()\n",
    "#data = new_df.text[2:nbr_data].values.tolist()\n",
    "new_data = []\n",
    "for idx,_sentence in enumerate(data):\n",
    "    \n",
    "    if isinstance(_sentence,float):\n",
    "        bad_ids.append(idx)\n",
    "        continue\n",
    "        \n",
    "    tokens = _sentence.split()\n",
    "    #tokens = tokens + data[idx].split()\n",
    "    new_string = str()\n",
    "    \n",
    "    ADD_STRING = True\n",
    "    for t in tokens:\n",
    "        try:\n",
    "            t.encode('utf-8')\n",
    "            \n",
    "            new_string = new_string +  t.encode('utf-8')+ ' '\n",
    "            \n",
    "        except:\n",
    "            bad_ids.append(idx)\n",
    "            ADD_STRING = False\n",
    "            break\n",
    "    if ADD_STRING:\n",
    "        new_data.append(new_string)\n",
    "        good_ids.append(idx);"
   ]
  },
  {
   "cell_type": "markdown",
   "metadata": {},
   "source": [
    "### Now that we have the good files let's play with them"
   ]
  },
  {
   "cell_type": "code",
   "execution_count": 11,
   "metadata": {},
   "outputs": [
    {
     "name": "stdout",
     "output_type": "stream",
     "text": [
      "total number of podcast: 92697\n"
     ]
    }
   ],
   "source": [
    "final_df =new_df.loc[:].drop(bad_ids)\n",
    "data = list(new_data)\n",
    "size =len(final_df);\n",
    "new_index = [i for i in range(size)]\n",
    "final_df.index = new_index\n",
    "print(\"total number of podcast: \" + str(len(new_data)))"
   ]
  },
  {
   "cell_type": "code",
   "execution_count": 12,
   "metadata": {},
   "outputs": [],
   "source": [
    "#data = new_df.content[:50].values.tolist()\n",
    "\n",
    "\n",
    "# Remove Emails\n",
    "new_data = []\n",
    "for idx,sentence in enumerate(data):\n",
    "    new_sentence=str()\n",
    "    try:\n",
    "        \n",
    "        new_sentence =  re.sub('\\S*@\\S*\\s?', '', sentence)\n",
    "        \n",
    "    except:\n",
    "         continue;\n",
    "            \n",
    "    try:\n",
    "        \n",
    "        new_sentence =  re.sub('\\s+', ' ', new_sentence)\n",
    "        \n",
    "    except:\n",
    "         continue;   \n",
    "    \n",
    "    try:\n",
    "        \n",
    "        new_sentence =  re.sub(\"\\'\", \"\", new_sentence)\n",
    "        \n",
    "    except:\n",
    "         continue;\n",
    "\n",
    "    new_data.append(new_sentence)"
   ]
  },
  {
   "cell_type": "markdown",
   "metadata": {},
   "source": [
    "## Note: the data list now contains the description of the podcast!"
   ]
  },
  {
   "cell_type": "code",
   "execution_count": 13,
   "metadata": {},
   "outputs": [
    {
     "data": {
      "text/plain": [
       "92697"
      ]
     },
     "execution_count": 13,
     "metadata": {},
     "output_type": "execute_result"
    }
   ],
   "source": [
    "data = new_data\n",
    "final_df.content = data\n",
    "len(data)\n",
    "\n"
   ]
  },
  {
   "cell_type": "code",
   "execution_count": 14,
   "metadata": {},
   "outputs": [
    {
     "data": {
      "text/plain": [
       "[u'10 ',\n",
       " u'A new project dedicated to all lovers of electronic music ',\n",
       " u'We chat about the movies, TV and pop-culturey stuff ',\n",
       " u'Florence Augusta Merriam Bailey was an American ornithologist and nature writer. She started observing bird behavior at a time when most bird study was based on collections and skins. By 1885, she began to write articles focusing on protecting birds. Her introduction of a birdwatching field guide, aimed at living birds, is considered the first in the tradition of modern bird guides. She wrote the first of these at the age of 26, initially as a series of notes in the Audubon Magazine and later as books. In \"A-Birding on a Bronco,\" she writes an engaging memoir about her several trips to study birds on a ranch in California in the late 1800s. ',\n",
       " u'A radio show that plays bluegrass, old time and gospel music only by unsigned bands and discusses their playing style. ',\n",
       " u'A blend of soul,pop,funk,rhythm and blues and rock : songs by Musilosophy, singer songwriter and jazz pianist.&lt;br&gt; ',\n",
       " u'Another great podcast hosted by LibSyn.com ',\n",
       " u'A semi-weekly discussion of the plots, themes and highlights of the HBO series \"Game of Thrones.\" Your hosts Dave Chen (The /Filmcast and The Tobolowsky Files) and Joanna Robinson (an Editor for Pajiba.com) will dish up both praise and criticism and will try not to sound too pompous if the book was better. Questions, comments, oaths of fealty? Email ',\n",
       " u'Ebenezer Scrooge, a mean old miser, is given a second chance to do right after being haunted by three ghosts on Christmas Eve in this Dickens classic. The Christmas Carol Audio Book. ',\n",
       " u'ideas for life ']"
      ]
     },
     "execution_count": 14,
     "metadata": {},
     "output_type": "execute_result"
    }
   ],
   "source": [
    "data[:10]"
   ]
  },
  {
   "cell_type": "markdown",
   "metadata": {},
   "source": [
    "## This is where we use TF-IDF and KNN to recommend podcasts based on tweeter activity\n",
    "\n",
    "### Why TF_IDF?  Because of the following reasons:\n",
    "\n",
    "- Is fast\n",
    "- we can use all podcast\n",
    "- it transform data into normalized vectors, perfect for cosine similarity"
   ]
  },
  {
   "cell_type": "code",
   "execution_count": 15,
   "metadata": {},
   "outputs": [],
   "source": [
    "from sklearn.feature_extraction.text import TfidfVectorizer\n",
    "from sklearn.neighbors import KNeighborsClassifier\n",
    "tfidf_vectorizer = TfidfVectorizer(stop_words='english', max_df=0.7)"
   ]
  },
  {
   "cell_type": "markdown",
   "metadata": {},
   "source": [
    "## Now let's use TF-IDF to:\n",
    "\n",
    "(1) transform the data\n",
    "\n",
    "(2) apply dot product (cosine similarity) operations for recommendation"
   ]
  },
  {
   "cell_type": "code",
   "execution_count": 16,
   "metadata": {},
   "outputs": [],
   "source": [
    "from guess_language import guessLanguage"
   ]
  },
  {
   "cell_type": "code",
   "execution_count": 17,
   "metadata": {},
   "outputs": [
    {
     "name": "stdout",
     "output_type": "stream",
     "text": [
      "{'UNKNOWN': 1}\n"
     ]
    }
   ],
   "source": [
    "dict_languages = {}\n",
    "\n",
    "for idx,sentence in enumerate(data[:1]):\n",
    "    if idx % 1000 == 0:\n",
    "        \n",
    "        language  = guessLanguage(sentence)\n",
    "    #print(language)\n",
    "    try:\n",
    "        val = dict_languages[language]\n",
    "        val = val + 1\n",
    "        dict_languages[language] = val\n",
    "    except:\n",
    "        dict_languages[language] = 1\n",
    "        \n",
    "print(dict_languages)"
   ]
  },
  {
   "cell_type": "code",
   "execution_count": 94,
   "metadata": {},
   "outputs": [
    {
     "data": {
      "text/plain": [
       "array([<matplotlib.axes._subplots.AxesSubplot object at 0x1a27409e90>],\n",
       "      dtype=object)"
      ]
     },
     "execution_count": 94,
     "metadata": {},
     "output_type": "execute_result"
    },
    {
     "data": {
      "image/png": "[encoded data removed]",
      "text/plain": [
       "<Figure size 936x936 with 1 Axes>"
      ]
     },
     "metadata": {},
     "output_type": "display_data"
    }
   ],
   "source": [
    "dict_pie = {'Others':0}\n",
    "for key,val in dict_languages.items():\n",
    "    if key == 'es':\n",
    "        dict_pie['Spanish'] = val\n",
    "        continue;\n",
    "    if key == 'de':\n",
    "        dict_pie['German'] = val\n",
    "        continue\n",
    "    if key == 'fr':\n",
    "        dict_pie['French'] = val\n",
    "        continue\n",
    "    if key == 'en':\n",
    "        dict_pie['English'] = val\n",
    "        continue\n",
    "    dict_pie['Others'] = dict_pie['Others'] + val\n",
    "    \n",
    "df = pd.DataFrame(dict_pie.values(), index=dict_pie.keys(), columns=['x'])\n",
    "\n",
    "df.plot(kind='pie', subplots=True, figsize=(13, 13))\n",
    "\n"
   ]
  }
 ],
 "metadata": {
  "kernelspec": {
   "display_name": "Python 2",
   "language": "python",
   "name": "python2"
  },
  "language_info": {
   "codemirror_mode": {
    "name": "ipython",
    "version": 2
   },
   "file_extension": ".py",
   "mimetype": "text/x-python",
   "name": "python",
   "nbconvert_exporter": "python",
   "pygments_lexer": "ipython2",
   "version": "2.7.15"
  }
 },
 "nbformat": 4,
 "nbformat_minor": 2
}
